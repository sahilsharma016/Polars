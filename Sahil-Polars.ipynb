{
 "cells": [
  {
   "cell_type": "code",
   "execution_count": 1,
   "id": "7605f733",
   "metadata": {},
   "outputs": [
    {
     "name": "stdout",
     "output_type": "stream",
     "text": [
      "Looking in indexes: https://pypi.org/simple, https://pypi.ngc.nvidia.com\n",
      "Collecting polars\n",
      "  Downloading polars-1.7.1-cp38-abi3-manylinux_2_17_x86_64.manylinux2014_x86_64.whl.metadata (14 kB)\n",
      "Downloading polars-1.7.1-cp38-abi3-manylinux_2_17_x86_64.manylinux2014_x86_64.whl (32.2 MB)\n",
      "\u001b[2K   \u001b[90m━━━━━━━━━━━━━━━━━━━━━━━━━━━━━━━━━━━━━━━━\u001b[0m \u001b[32m32.2/32.2 MB\u001b[0m \u001b[31m7.5 MB/s\u001b[0m eta \u001b[36m0:00:00\u001b[0ma \u001b[36m0:00:01\u001b[0mm\n",
      "\u001b[?25hInstalling collected packages: polars\n",
      "Successfully installed polars-1.7.1\n",
      "\u001b[33mWARNING: Running pip as the 'root' user can result in broken permissions and conflicting behaviour with the system package manager, possibly rendering your system unusable.It is recommended to use a virtual environment instead: https://pip.pypa.io/warnings/venv. Use the --root-user-action option if you know what you are doing and want to suppress this warning.\u001b[0m\u001b[33m\n",
      "\u001b[0m\n",
      "\u001b[1m[\u001b[0m\u001b[34;49mnotice\u001b[0m\u001b[1;39;49m]\u001b[0m\u001b[39;49m A new release of pip is available: \u001b[0m\u001b[31;49m24.1.2\u001b[0m\u001b[39;49m -> \u001b[0m\u001b[32;49m24.2\u001b[0m\n",
      "\u001b[1m[\u001b[0m\u001b[34;49mnotice\u001b[0m\u001b[1;39;49m]\u001b[0m\u001b[39;49m To update, run: \u001b[0m\u001b[32;49mpython -m pip install --upgrade pip\u001b[0m\n"
     ]
    }
   ],
   "source": [
    "!pip install polars"
   ]
  },
  {
   "cell_type": "code",
   "execution_count": 3,
   "id": "506db880",
   "metadata": {},
   "outputs": [
    {
     "data": {
      "text/plain": [
       "'1.7.1'"
      ]
     },
     "execution_count": 3,
     "metadata": {},
     "output_type": "execute_result"
    }
   ],
   "source": [
    "import polars as pl\n",
    "pl.__version__"
   ]
  },
  {
   "cell_type": "markdown",
   "id": "7ef8677f",
   "metadata": {},
   "source": [
    "**DataFrame-Testing**"
   ]
  },
  {
   "cell_type": "code",
   "execution_count": 5,
   "id": "27ec64cf",
   "metadata": {},
   "outputs": [],
   "source": [
    "from datetime import datetime\n",
    "\n",
    "df = pl.DataFrame(\n",
    "    {\n",
    "        \"integer\": [1, 2, 3],\n",
    "        \"date\": [\n",
    "            datetime(2025, 1, 1),\n",
    "            datetime(2025, 1, 2),\n",
    "            datetime(2025, 1, 3),\n",
    "        ],\n",
    "        \"float\": [4.0, 5.0, 6.0],\n",
    "        \"string\": [\"a\", \"b\", \"c\"],\n",
    "    }\n",
    ")\n"
   ]
  },
  {
   "cell_type": "code",
   "execution_count": 4,
   "id": "30b7d256",
   "metadata": {},
   "outputs": [
    {
     "data": {
      "text/html": [
       "<div><style>\n",
       ".dataframe > thead > tr,\n",
       ".dataframe > tbody > tr {\n",
       "  text-align: right;\n",
       "  white-space: pre-wrap;\n",
       "}\n",
       "</style>\n",
       "<small>shape: (3, 4)</small><table border=\"1\" class=\"dataframe\"><thead><tr><th>integer</th><th>date</th><th>float</th><th>string</th></tr><tr><td>i64</td><td>datetime[μs]</td><td>f64</td><td>str</td></tr></thead><tbody><tr><td>1</td><td>2025-01-01 00:00:00</td><td>4.0</td><td>&quot;a&quot;</td></tr><tr><td>2</td><td>2025-01-02 00:00:00</td><td>5.0</td><td>&quot;b&quot;</td></tr><tr><td>3</td><td>2025-01-03 00:00:00</td><td>6.0</td><td>&quot;c&quot;</td></tr></tbody></table></div>"
      ],
      "text/plain": [
       "shape: (3, 4)\n",
       "┌─────────┬─────────────────────┬───────┬────────┐\n",
       "│ integer ┆ date                ┆ float ┆ string │\n",
       "│ ---     ┆ ---                 ┆ ---   ┆ ---    │\n",
       "│ i64     ┆ datetime[μs]        ┆ f64   ┆ str    │\n",
       "╞═════════╪═════════════════════╪═══════╪════════╡\n",
       "│ 1       ┆ 2025-01-01 00:00:00 ┆ 4.0   ┆ a      │\n",
       "│ 2       ┆ 2025-01-02 00:00:00 ┆ 5.0   ┆ b      │\n",
       "│ 3       ┆ 2025-01-03 00:00:00 ┆ 6.0   ┆ c      │\n",
       "└─────────┴─────────────────────┴───────┴────────┘"
      ]
     },
     "execution_count": 4,
     "metadata": {},
     "output_type": "execute_result"
    }
   ],
   "source": [
    "df"
   ]
  },
  {
   "cell_type": "code",
   "execution_count": 7,
   "id": "af43e7d3",
   "metadata": {},
   "outputs": [
    {
     "name": "stdout",
     "output_type": "stream",
     "text": [
      "Looking in indexes: https://pypi.org/simple, https://pypi.ngc.nvidia.com\n",
      "Collecting faker\n",
      "  Downloading Faker-29.0.0-py3-none-any.whl.metadata (15 kB)\n",
      "Requirement already satisfied: python-dateutil>=2.4 in /usr/local/lib/python3.10/dist-packages (from faker) (2.9.0.post0)\n",
      "Requirement already satisfied: six>=1.5 in /usr/local/lib/python3.10/dist-packages (from python-dateutil>=2.4->faker) (1.16.0)\n",
      "Downloading Faker-29.0.0-py3-none-any.whl (1.8 MB)\n",
      "\u001b[2K   \u001b[90m━━━━━━━━━━━━━━━━━━━━━━━━━━━━━━━━━━━━━━━━\u001b[0m \u001b[32m1.8/1.8 MB\u001b[0m \u001b[31m19.5 MB/s\u001b[0m eta \u001b[36m0:00:00\u001b[0ma \u001b[36m0:00:01\u001b[0m\n",
      "\u001b[?25hInstalling collected packages: faker\n",
      "Successfully installed faker-29.0.0\n",
      "\u001b[33mWARNING: Running pip as the 'root' user can result in broken permissions and conflicting behaviour with the system package manager, possibly rendering your system unusable.It is recommended to use a virtual environment instead: https://pip.pypa.io/warnings/venv. Use the --root-user-action option if you know what you are doing and want to suppress this warning.\u001b[0m\u001b[33m\n",
      "\u001b[0m\n",
      "\u001b[1m[\u001b[0m\u001b[34;49mnotice\u001b[0m\u001b[1;39;49m]\u001b[0m\u001b[39;49m A new release of pip is available: \u001b[0m\u001b[31;49m24.1.2\u001b[0m\u001b[39;49m -> \u001b[0m\u001b[32;49m24.2\u001b[0m\n",
      "\u001b[1m[\u001b[0m\u001b[34;49mnotice\u001b[0m\u001b[1;39;49m]\u001b[0m\u001b[39;49m To update, run: \u001b[0m\u001b[32;49mpython -m pip install --upgrade pip\u001b[0m\n"
     ]
    }
   ],
   "source": [
    "!pip install faker"
   ]
  },
  {
   "cell_type": "markdown",
   "id": "262e96a1",
   "metadata": {},
   "source": []
  },
  {
   "cell_type": "markdown",
   "id": "432dc459",
   "metadata": {},
   "source": [
    "**Make Fake Dataset**\n",
    "\n",
    "\n",
    "Uncomment this if you are running this code first time , to create Dataset."
   ]
  },
  {
   "cell_type": "code",
   "execution_count": null,
   "id": "c390f803",
   "metadata": {},
   "outputs": [
    {
     "name": "stderr",
     "output_type": "stream",
     "text": [
      " 70%|██████████████████████████████████████████████████████████████████████████▋                               | 7043002/10000000 [50:54<21:17, 2313.80it/s]"
     ]
    }
   ],
   "source": [
    "# import csv\n",
    "# from faker import Faker\n",
    "# import datetime\n",
    "# import time\n",
    "# from tqdm import tqdm\n",
    "\n",
    "# def datagenerate(records, headers):\n",
    "#     start_time = time.time()\n",
    "#     fake = Faker('en_US')\n",
    "#     with open(f\"{records}.csv\", 'wt') as csvFile:\n",
    "#         writer = csv.DictWriter(csvFile, fieldnames=headers)\n",
    "#         writer.writeheader()\n",
    "#         for i in tqdm(range(records)):\n",
    "#             full_name = fake.name()\n",
    "#             FLname = full_name.split(\" \")\n",
    "#             Fname = FLname[0]\n",
    "#             Lname = FLname[1]\n",
    "#             domain_name = \"@testDomain.com\"\n",
    "#             userId = Fname +\".\"+ Lname + domain_name\n",
    "\n",
    "#             writer.writerow({\n",
    "#                     \"user_id\": fake.unique.random_int(min=1111111111111, max=9999999999999),\n",
    "#                     \"name\": fake.name(),\n",
    "#                     \"date_of_birth\" : fake.date(pattern=\"%d-%m-%Y\", end_datetime=datetime.date(2000, 1,1)),\n",
    "#                     \"country_of_birth\": fake.country(),\n",
    "#                     \"email\": fake.email(),\n",
    "#                     \"record_year\": fake.year(),\n",
    "#                     \"score\": fake.random_int(min=1, max=999),\n",
    "#                     })\n",
    "\n",
    "#     end_time = time.time()\n",
    "#     execution_time = end_time - start_time\n",
    "#     print(f\"CSV generation complete! Execution time: {execution_time:.2f} seconds\")\n",
    "\n",
    "# records = 10000000\n",
    "# headers = [\"user_id\", \"name\", \"date_of_birth\", \"country_of_birth\", \"email\", \"record_year\", \"score\"]\n",
    "# datagenerate(records, headers)"
   ]
  },
  {
   "cell_type": "markdown",
   "id": "b3845492",
   "metadata": {},
   "source": []
  },
  {
   "cell_type": "markdown",
   "id": "dc66a544",
   "metadata": {},
   "source": [
    "**Read csv file**"
   ]
  },
  {
   "cell_type": "code",
   "execution_count": 4,
   "id": "a8c6139c",
   "metadata": {},
   "outputs": [
    {
     "data": {
      "text/html": [
       "<i>naive plan: (run <b>LazyFrame.explain(optimized=True)</b> to see the optimized plan)</i>\n",
       "    <p></p>\n",
       "    <div>Csv SCAN [10000000.csv]<p></p>PROJECT */7 COLUMNS</div>"
      ],
      "text/plain": [
       "<LazyFrame at 0x7F1469765EA0>"
      ]
     },
     "execution_count": 4,
     "metadata": {},
     "output_type": "execute_result"
    }
   ],
   "source": [
    "lzDF = pl.scan_csv(\"10000000.csv\")\n",
    "lzDF"
   ]
  },
  {
   "cell_type": "code",
   "execution_count": 5,
   "id": "c31c3ff9",
   "metadata": {},
   "outputs": [
    {
     "data": {
      "text/plain": [
       "Schema([('user_id', Int64),\n",
       "        ('name', String),\n",
       "        ('date_of_birth', String),\n",
       "        ('country_of_birth', String),\n",
       "        ('email', String),\n",
       "        ('record_year', Int64),\n",
       "        ('score', Int64)])"
      ]
     },
     "execution_count": 5,
     "metadata": {},
     "output_type": "execute_result"
    }
   ],
   "source": [
    "lzDF.collect_schema()"
   ]
  },
  {
   "cell_type": "markdown",
   "id": "b04f28d1",
   "metadata": {},
   "source": [
    "**GPU MEMORY-UTILIZATION BEFORE LOADING DATASET ON GPU**"
   ]
  },
  {
   "cell_type": "code",
   "execution_count": 6,
   "id": "4ac0a2d1",
   "metadata": {},
   "outputs": [
    {
     "name": "stdout",
     "output_type": "stream",
     "text": [
      "Fri Sep 20 09:34:23 2024       \n",
      "+---------------------------------------------------------------------------------------+\n",
      "| NVIDIA-SMI 535.183.06             Driver Version: 535.183.06   CUDA Version: 12.5     |\n",
      "|-----------------------------------------+----------------------+----------------------+\n",
      "| GPU  Name                 Persistence-M | Bus-Id        Disp.A | Volatile Uncorr. ECC |\n",
      "| Fan  Temp   Perf          Pwr:Usage/Cap |         Memory-Usage | GPU-Util  Compute M. |\n",
      "|                                         |                      |               MIG M. |\n",
      "|=========================================+======================+======================|\n",
      "|   0  NVIDIA A100-SXM4-80GB          On  | 00000000:07:00.0 Off |                    0 |\n",
      "| N/A   29C    P0              59W / 400W |      0MiB / 81920MiB |      0%      Default |\n",
      "|                                         |                      |             Disabled |\n",
      "+-----------------------------------------+----------------------+----------------------+\n",
      "|   1  NVIDIA A100-SXM4-80GB          On  | 00000000:0F:00.0 Off |                    0 |\n",
      "| N/A   27C    P0              59W / 400W |      0MiB / 81920MiB |      0%      Default |\n",
      "|                                         |                      |             Disabled |\n",
      "+-----------------------------------------+----------------------+----------------------+\n",
      "|   2  NVIDIA A100-SXM4-80GB          On  | 00000000:47:00.0 Off |                    0 |\n",
      "| N/A   27C    P0              61W / 400W |      0MiB / 81920MiB |      0%      Default |\n",
      "|                                         |                      |             Disabled |\n",
      "+-----------------------------------------+----------------------+----------------------+\n",
      "|   3  NVIDIA A100-SXM4-80GB          On  | 00000000:4E:00.0 Off |                    0 |\n",
      "| N/A   27C    P0              61W / 400W |      0MiB / 81920MiB |      0%      Default |\n",
      "|                                         |                      |             Disabled |\n",
      "+-----------------------------------------+----------------------+----------------------+\n",
      "|   4  NVIDIA A100-SXM4-80GB          On  | 00000000:87:00.0 Off |                    0 |\n",
      "| N/A   33C    P0              64W / 400W |      0MiB / 81920MiB |      0%      Default |\n",
      "|                                         |                      |             Disabled |\n",
      "+-----------------------------------------+----------------------+----------------------+\n",
      "|   5  NVIDIA A100-SXM4-80GB          On  | 00000000:90:00.0 Off |                    0 |\n",
      "| N/A   32C    P0              63W / 400W |      0MiB / 81920MiB |      0%      Default |\n",
      "|                                         |                      |             Disabled |\n",
      "+-----------------------------------------+----------------------+----------------------+\n",
      "|   6  NVIDIA A100-SXM4-80GB          On  | 00000000:B7:00.0 Off |                    0 |\n",
      "| N/A   31C    P0              59W / 400W |      0MiB / 81920MiB |      0%      Default |\n",
      "|                                         |                      |             Disabled |\n",
      "+-----------------------------------------+----------------------+----------------------+\n",
      "|   7  NVIDIA A100-SXM4-80GB          On  | 00000000:BD:00.0 Off |                    0 |\n",
      "| N/A   31C    P0              62W / 400W |      0MiB / 81920MiB |      0%      Default |\n",
      "|                                         |                      |             Disabled |\n",
      "+-----------------------------------------+----------------------+----------------------+\n",
      "                                                                                         \n",
      "+---------------------------------------------------------------------------------------+\n",
      "| Processes:                                                                            |\n",
      "|  GPU   GI   CI        PID   Type   Process name                            GPU Memory |\n",
      "|        ID   ID                                                             Usage      |\n",
      "|=======================================================================================|\n",
      "|  No running processes found                                                           |\n",
      "+---------------------------------------------------------------------------------------+\n"
     ]
    }
   ],
   "source": [
    "!nvidia-smi"
   ]
  },
  {
   "cell_type": "markdown",
   "id": "e33e8757",
   "metadata": {},
   "source": [
    "**As There are 8 GPU'S and Memory Usage is 0 i.e 0MiB/81920MiB**"
   ]
  },
  {
   "cell_type": "code",
   "execution_count": 7,
   "id": "0fe62d63",
   "metadata": {},
   "outputs": [],
   "source": [
    "gpu_engine = pl.GPUEngine(\n",
    "    device=0, # This is the default\n",
    "    raise_on_fail=True, # Fail loudly if we can't run on the GPU.\n",
    ")"
   ]
  },
  {
   "cell_type": "markdown",
   "id": "048c68fc",
   "metadata": {},
   "source": [
    "**RUN ON CPU**"
   ]
  },
  {
   "cell_type": "code",
   "execution_count": 8,
   "id": "c5c17e2e",
   "metadata": {},
   "outputs": [
    {
     "name": "stdout",
     "output_type": "stream",
     "text": [
      "CPU times: user 19.4 s, sys: 3.66 s, total: 23.1 s\n",
      "Wall time: 444 ms\n"
     ]
    },
    {
     "data": {
      "text/html": [
       "<div><style>\n",
       ".dataframe > thead > tr,\n",
       ".dataframe > tbody > tr {\n",
       "  text-align: right;\n",
       "  white-space: pre-wrap;\n",
       "}\n",
       "</style>\n",
       "<small>shape: (5, 2)</small><table border=\"1\" class=\"dataframe\"><thead><tr><th>country_of_birth</th><th>score</th></tr><tr><td>str</td><td>f64</td></tr></thead><tbody><tr><td>&quot;Jamaica&quot;</td><td>503.339533</td></tr><tr><td>&quot;Estonia&quot;</td><td>503.291502</td></tr><tr><td>&quot;Ghana&quot;</td><td>503.221561</td></tr><tr><td>&quot;Barbados&quot;</td><td>503.107001</td></tr><tr><td>&quot;Bolivia&quot;</td><td>502.871664</td></tr></tbody></table></div>"
      ],
      "text/plain": [
       "shape: (5, 2)\n",
       "┌──────────────────┬────────────┐\n",
       "│ country_of_birth ┆ score      │\n",
       "│ ---              ┆ ---        │\n",
       "│ str              ┆ f64        │\n",
       "╞══════════════════╪════════════╡\n",
       "│ Jamaica          ┆ 503.339533 │\n",
       "│ Estonia          ┆ 503.291502 │\n",
       "│ Ghana            ┆ 503.221561 │\n",
       "│ Barbados         ┆ 503.107001 │\n",
       "│ Bolivia          ┆ 502.871664 │\n",
       "└──────────────────┴────────────┘"
      ]
     },
     "execution_count": 8,
     "metadata": {},
     "output_type": "execute_result"
    }
   ],
   "source": [
    "%%time\n",
    "\n",
    "cpu_query = (\n",
    "    lzDF\n",
    "    .group_by(\"country_of_birth\")\n",
    "    .agg(pl.col(\"score\").mean())\n",
    "    .sort(by=\"score\", descending=True)\n",
    "    .head()\n",
    "    .collect()\n",
    ")\n",
    "cpu_query"
   ]
  },
  {
   "cell_type": "markdown",
   "id": "2962b4a6",
   "metadata": {},
   "source": [
    "**CPU TAKE TOTAL 23.1 s**\n",
    "\n",
    "Point to note here is that Data is already on CPU memory"
   ]
  },
  {
   "cell_type": "code",
   "execution_count": 8,
   "id": "cf87bc60",
   "metadata": {},
   "outputs": [
    {
     "name": "stdout",
     "output_type": "stream",
     "text": [
      "Looking in indexes: https://pypi.org/simple, https://pypi.ngc.nvidia.com\n",
      "Requirement already satisfied: cudf-polars-cu12 in /usr/local/lib/python3.10/dist-packages (24.8.3)\n",
      "Requirement already satisfied: cudf-cu12==24.8.* in /usr/local/lib/python3.10/dist-packages (from cudf-polars-cu12) (24.8.3)\n",
      "Requirement already satisfied: polars>=1.6 in /usr/local/lib/python3.10/dist-packages (from cudf-polars-cu12) (1.7.1)\n",
      "Requirement already satisfied: cachetools in /usr/local/lib/python3.10/dist-packages (from cudf-cu12==24.8.*->cudf-polars-cu12) (5.3.3)\n",
      "Requirement already satisfied: cuda-python<13.0a0,>=12.0 in /usr/local/lib/python3.10/dist-packages (from cudf-cu12==24.8.*->cudf-polars-cu12) (12.5.0)\n",
      "Requirement already satisfied: cupy-cuda12x>=12.0.0 in /usr/local/lib/python3.10/dist-packages (from cudf-cu12==24.8.*->cudf-polars-cu12) (13.0.0)\n",
      "Requirement already satisfied: fsspec>=0.6.0 in /usr/local/lib/python3.10/dist-packages (from cudf-cu12==24.8.*->cudf-polars-cu12) (2024.5.0)\n",
      "Requirement already satisfied: numba>=0.57 in /usr/local/lib/python3.10/dist-packages (from cudf-cu12==24.8.*->cudf-polars-cu12) (0.59.1)\n",
      "Requirement already satisfied: numpy<2.0a0,>=1.23 in /usr/local/lib/python3.10/dist-packages (from cudf-cu12==24.8.*->cudf-polars-cu12) (1.24.4)\n",
      "Requirement already satisfied: nvtx>=0.2.1 in /usr/local/lib/python3.10/dist-packages (from cudf-cu12==24.8.*->cudf-polars-cu12) (0.2.5)\n",
      "Requirement already satisfied: packaging in /usr/local/lib/python3.10/dist-packages (from cudf-cu12==24.8.*->cudf-polars-cu12) (24.0)\n",
      "Requirement already satisfied: pandas<2.2.3dev0,>=2.0 in /usr/local/lib/python3.10/dist-packages (from cudf-cu12==24.8.*->cudf-polars-cu12) (2.2.1)\n",
      "Requirement already satisfied: pyarrow<16.2.0a0,>=16.1.0 in /usr/local/lib/python3.10/dist-packages (from cudf-cu12==24.8.*->cudf-polars-cu12) (16.1.0)\n",
      "Requirement already satisfied: pynvjitlink-cu12 in /usr/local/lib/python3.10/dist-packages (from cudf-cu12==24.8.*->cudf-polars-cu12) (0.3.0)\n",
      "Requirement already satisfied: rich in /usr/local/lib/python3.10/dist-packages (from cudf-cu12==24.8.*->cudf-polars-cu12) (13.7.1)\n",
      "Requirement already satisfied: rmm-cu12==24.8.* in /usr/local/lib/python3.10/dist-packages (from cudf-cu12==24.8.*->cudf-polars-cu12) (24.8.2)\n",
      "Requirement already satisfied: typing_extensions>=4.0.0 in /usr/local/lib/python3.10/dist-packages (from cudf-cu12==24.8.*->cudf-polars-cu12) (4.12.0)\n",
      "Requirement already satisfied: fastrlock>=0.5 in /usr/local/lib/python3.10/dist-packages (from cupy-cuda12x>=12.0.0->cudf-cu12==24.8.*->cudf-polars-cu12) (0.8.2)\n",
      "Requirement already satisfied: llvmlite<0.43,>=0.42.0dev0 in /usr/local/lib/python3.10/dist-packages (from numba>=0.57->cudf-cu12==24.8.*->cudf-polars-cu12) (0.42.0)\n",
      "Requirement already satisfied: python-dateutil>=2.8.2 in /usr/local/lib/python3.10/dist-packages (from pandas<2.2.3dev0,>=2.0->cudf-cu12==24.8.*->cudf-polars-cu12) (2.9.0.post0)\n",
      "Requirement already satisfied: pytz>=2020.1 in /usr/local/lib/python3.10/dist-packages (from pandas<2.2.3dev0,>=2.0->cudf-cu12==24.8.*->cudf-polars-cu12) (2024.1)\n",
      "Requirement already satisfied: tzdata>=2022.7 in /usr/local/lib/python3.10/dist-packages (from pandas<2.2.3dev0,>=2.0->cudf-cu12==24.8.*->cudf-polars-cu12) (2024.1)\n",
      "Requirement already satisfied: markdown-it-py>=2.2.0 in /usr/local/lib/python3.10/dist-packages (from rich->cudf-cu12==24.8.*->cudf-polars-cu12) (3.0.0)\n",
      "Requirement already satisfied: pygments<3.0.0,>=2.13.0 in /usr/local/lib/python3.10/dist-packages (from rich->cudf-cu12==24.8.*->cudf-polars-cu12) (2.18.0)\n",
      "Requirement already satisfied: mdurl~=0.1 in /usr/local/lib/python3.10/dist-packages (from markdown-it-py>=2.2.0->rich->cudf-cu12==24.8.*->cudf-polars-cu12) (0.1.2)\n",
      "Requirement already satisfied: six>=1.5 in /usr/local/lib/python3.10/dist-packages (from python-dateutil>=2.8.2->pandas<2.2.3dev0,>=2.0->cudf-cu12==24.8.*->cudf-polars-cu12) (1.16.0)\n",
      "\u001b[33mWARNING: Running pip as the 'root' user can result in broken permissions and conflicting behaviour with the system package manager, possibly rendering your system unusable.It is recommended to use a virtual environment instead: https://pip.pypa.io/warnings/venv. Use the --root-user-action option if you know what you are doing and want to suppress this warning.\u001b[0m\u001b[33m\n",
      "\u001b[0m\n",
      "\u001b[1m[\u001b[0m\u001b[34;49mnotice\u001b[0m\u001b[1;39;49m]\u001b[0m\u001b[39;49m A new release of pip is available: \u001b[0m\u001b[31;49m24.1.2\u001b[0m\u001b[39;49m -> \u001b[0m\u001b[32;49m24.2\u001b[0m\n",
      "\u001b[1m[\u001b[0m\u001b[34;49mnotice\u001b[0m\u001b[1;39;49m]\u001b[0m\u001b[39;49m To update, run: \u001b[0m\u001b[32;49mpython -m pip install --upgrade pip\u001b[0m\n"
     ]
    }
   ],
   "source": [
    "# isntalling polar with cuda support\n",
    "!pip install cudf-polars-cu12"
   ]
  },
  {
   "cell_type": "code",
   "execution_count": 9,
   "id": "3eac857c",
   "metadata": {},
   "outputs": [
    {
     "name": "stdout",
     "output_type": "stream",
     "text": [
      "Fri Sep 20 09:35:22 2024       \n",
      "+---------------------------------------------------------------------------------------+\n",
      "| NVIDIA-SMI 535.183.06             Driver Version: 535.183.06   CUDA Version: 12.5     |\n",
      "|-----------------------------------------+----------------------+----------------------+\n",
      "| GPU  Name                 Persistence-M | Bus-Id        Disp.A | Volatile Uncorr. ECC |\n",
      "| Fan  Temp   Perf          Pwr:Usage/Cap |         Memory-Usage | GPU-Util  Compute M. |\n",
      "|                                         |                      |               MIG M. |\n",
      "|=========================================+======================+======================|\n",
      "|   0  NVIDIA A100-SXM4-80GB          On  | 00000000:07:00.0 Off |                    0 |\n",
      "| N/A   29C    P0              59W / 400W |      0MiB / 81920MiB |      0%      Default |\n",
      "|                                         |                      |             Disabled |\n",
      "+-----------------------------------------+----------------------+----------------------+\n",
      "|   1  NVIDIA A100-SXM4-80GB          On  | 00000000:0F:00.0 Off |                    0 |\n",
      "| N/A   27C    P0              59W / 400W |      0MiB / 81920MiB |      0%      Default |\n",
      "|                                         |                      |             Disabled |\n",
      "+-----------------------------------------+----------------------+----------------------+\n",
      "|   2  NVIDIA A100-SXM4-80GB          On  | 00000000:47:00.0 Off |                    0 |\n",
      "| N/A   27C    P0              61W / 400W |      0MiB / 81920MiB |      0%      Default |\n",
      "|                                         |                      |             Disabled |\n",
      "+-----------------------------------------+----------------------+----------------------+\n",
      "|   3  NVIDIA A100-SXM4-80GB          On  | 00000000:4E:00.0 Off |                    0 |\n",
      "| N/A   27C    P0              61W / 400W |      0MiB / 81920MiB |      0%      Default |\n",
      "|                                         |                      |             Disabled |\n",
      "+-----------------------------------------+----------------------+----------------------+\n",
      "|   4  NVIDIA A100-SXM4-80GB          On  | 00000000:87:00.0 Off |                    0 |\n",
      "| N/A   33C    P0              64W / 400W |      0MiB / 81920MiB |      0%      Default |\n",
      "|                                         |                      |             Disabled |\n",
      "+-----------------------------------------+----------------------+----------------------+\n",
      "|   5  NVIDIA A100-SXM4-80GB          On  | 00000000:90:00.0 Off |                    0 |\n",
      "| N/A   32C    P0              63W / 400W |      0MiB / 81920MiB |      0%      Default |\n",
      "|                                         |                      |             Disabled |\n",
      "+-----------------------------------------+----------------------+----------------------+\n",
      "|   6  NVIDIA A100-SXM4-80GB          On  | 00000000:B7:00.0 Off |                    0 |\n",
      "| N/A   31C    P0              59W / 400W |      0MiB / 81920MiB |      0%      Default |\n",
      "|                                         |                      |             Disabled |\n",
      "+-----------------------------------------+----------------------+----------------------+\n",
      "|   7  NVIDIA A100-SXM4-80GB          On  | 00000000:BD:00.0 Off |                    0 |\n",
      "| N/A   31C    P0              62W / 400W |      0MiB / 81920MiB |      0%      Default |\n",
      "|                                         |                      |             Disabled |\n",
      "+-----------------------------------------+----------------------+----------------------+\n",
      "                                                                                         \n",
      "+---------------------------------------------------------------------------------------+\n",
      "| Processes:                                                                            |\n",
      "|  GPU   GI   CI        PID   Type   Process name                            GPU Memory |\n",
      "|        ID   ID                                                             Usage      |\n",
      "|=======================================================================================|\n",
      "|  No running processes found                                                           |\n",
      "+---------------------------------------------------------------------------------------+\n"
     ]
    }
   ],
   "source": [
    "!nvidia-smi"
   ]
  },
  {
   "cell_type": "markdown",
   "id": "5de10afd",
   "metadata": {},
   "source": [
    "**Still 0mib bcz it was run on CPU**"
   ]
  },
  {
   "cell_type": "code",
   "execution_count": null,
   "id": "2aa3798e",
   "metadata": {},
   "outputs": [],
   "source": []
  },
  {
   "cell_type": "code",
   "execution_count": null,
   "id": "298cd513",
   "metadata": {},
   "outputs": [],
   "source": []
  },
  {
   "cell_type": "markdown",
   "id": "41cec295",
   "metadata": {},
   "source": [
    "\n",
    "\n",
    "**NOW RUN ON GPU**\n",
    "\n",
    "First it will load/transfer data from CPU to GPU\n",
    "\n",
    "\n",
    "Take more time than CPU"
   ]
  },
  {
   "cell_type": "code",
   "execution_count": 10,
   "id": "4746db8c",
   "metadata": {},
   "outputs": [
    {
     "name": "stdout",
     "output_type": "stream",
     "text": [
      "CPU times: user 11.6 s, sys: 20.1 s, total: 31.7 s\n",
      "Wall time: 17.9 s\n"
     ]
    },
    {
     "data": {
      "text/html": [
       "<div><style>\n",
       ".dataframe > thead > tr,\n",
       ".dataframe > tbody > tr {\n",
       "  text-align: right;\n",
       "  white-space: pre-wrap;\n",
       "}\n",
       "</style>\n",
       "<small>shape: (5, 2)</small><table border=\"1\" class=\"dataframe\"><thead><tr><th>country_of_birth</th><th>score</th></tr><tr><td>str</td><td>f64</td></tr></thead><tbody><tr><td>&quot;Jamaica&quot;</td><td>503.339533</td></tr><tr><td>&quot;Estonia&quot;</td><td>503.291502</td></tr><tr><td>&quot;Ghana&quot;</td><td>503.221561</td></tr><tr><td>&quot;Barbados&quot;</td><td>503.107001</td></tr><tr><td>&quot;Bolivia&quot;</td><td>502.871664</td></tr></tbody></table></div>"
      ],
      "text/plain": [
       "shape: (5, 2)\n",
       "┌──────────────────┬────────────┐\n",
       "│ country_of_birth ┆ score      │\n",
       "│ ---              ┆ ---        │\n",
       "│ str              ┆ f64        │\n",
       "╞══════════════════╪════════════╡\n",
       "│ Jamaica          ┆ 503.339533 │\n",
       "│ Estonia          ┆ 503.291502 │\n",
       "│ Ghana            ┆ 503.221561 │\n",
       "│ Barbados         ┆ 503.107001 │\n",
       "│ Bolivia          ┆ 502.871664 │\n",
       "└──────────────────┴────────────┘"
      ]
     },
     "execution_count": 10,
     "metadata": {},
     "output_type": "execute_result"
    }
   ],
   "source": [
    "%%time\n",
    "\n",
    "gpu_query = (\n",
    "    lzDF\n",
    "    .group_by(\"country_of_birth\")\n",
    "    .agg(pl.col(\"score\").mean())\n",
    "    .sort(by=\"score\", descending=True)\n",
    "    .head()\n",
    "    .collect(engine=gpu_engine)\n",
    ")\n",
    "gpu_query"
   ]
  },
  {
   "cell_type": "markdown",
   "id": "eab0d298",
   "metadata": {},
   "source": [
    "**As first time it take 31.7s to run and load dataset on GPU**"
   ]
  },
  {
   "cell_type": "code",
   "execution_count": 1,
   "id": "c541bb3b",
   "metadata": {},
   "outputs": [],
   "source": []
  },
  {
   "cell_type": "code",
   "execution_count": 11,
   "id": "14a1238d",
   "metadata": {},
   "outputs": [
    {
     "name": "stdout",
     "output_type": "stream",
     "text": [
      "Fri Sep 20 09:39:41 2024       \n",
      "+---------------------------------------------------------------------------------------+\n",
      "| NVIDIA-SMI 535.183.06             Driver Version: 535.183.06   CUDA Version: 12.5     |\n",
      "|-----------------------------------------+----------------------+----------------------+\n",
      "| GPU  Name                 Persistence-M | Bus-Id        Disp.A | Volatile Uncorr. ECC |\n",
      "| Fan  Temp   Perf          Pwr:Usage/Cap |         Memory-Usage | GPU-Util  Compute M. |\n",
      "|                                         |                      |               MIG M. |\n",
      "|=========================================+======================+======================|\n",
      "|   0  NVIDIA A100-SXM4-80GB          On  | 00000000:07:00.0 Off |                    0 |\n",
      "| N/A   30C    P0              65W / 400W |  40751MiB / 81920MiB |      0%      Default |\n",
      "|                                         |                      |             Disabled |\n",
      "+-----------------------------------------+----------------------+----------------------+\n",
      "|   1  NVIDIA A100-SXM4-80GB          On  | 00000000:0F:00.0 Off |                    0 |\n",
      "| N/A   27C    P0              66W / 400W |    423MiB / 81920MiB |      0%      Default |\n",
      "|                                         |                      |             Disabled |\n",
      "+-----------------------------------------+----------------------+----------------------+\n",
      "|   2  NVIDIA A100-SXM4-80GB          On  | 00000000:47:00.0 Off |                    0 |\n",
      "| N/A   28C    P0              67W / 400W |    423MiB / 81920MiB |      0%      Default |\n",
      "|                                         |                      |             Disabled |\n",
      "+-----------------------------------------+----------------------+----------------------+\n",
      "|   3  NVIDIA A100-SXM4-80GB          On  | 00000000:4E:00.0 Off |                    0 |\n",
      "| N/A   28C    P0              67W / 400W |    423MiB / 81920MiB |      0%      Default |\n",
      "|                                         |                      |             Disabled |\n",
      "+-----------------------------------------+----------------------+----------------------+\n",
      "|   4  NVIDIA A100-SXM4-80GB          On  | 00000000:87:00.0 Off |                    0 |\n",
      "| N/A   34C    P0              71W / 400W |    423MiB / 81920MiB |      0%      Default |\n",
      "|                                         |                      |             Disabled |\n",
      "+-----------------------------------------+----------------------+----------------------+\n",
      "|   5  NVIDIA A100-SXM4-80GB          On  | 00000000:90:00.0 Off |                    0 |\n",
      "| N/A   34C    P0              69W / 400W |    423MiB / 81920MiB |      0%      Default |\n",
      "|                                         |                      |             Disabled |\n",
      "+-----------------------------------------+----------------------+----------------------+\n",
      "|   6  NVIDIA A100-SXM4-80GB          On  | 00000000:B7:00.0 Off |                    0 |\n",
      "| N/A   32C    P0              66W / 400W |    423MiB / 81920MiB |      0%      Default |\n",
      "|                                         |                      |             Disabled |\n",
      "+-----------------------------------------+----------------------+----------------------+\n",
      "|   7  NVIDIA A100-SXM4-80GB          On  | 00000000:BD:00.0 Off |                    0 |\n",
      "| N/A   32C    P0              69W / 400W |    423MiB / 81920MiB |      0%      Default |\n",
      "|                                         |                      |             Disabled |\n",
      "+-----------------------------------------+----------------------+----------------------+\n",
      "                                                                                         \n",
      "+---------------------------------------------------------------------------------------+\n",
      "| Processes:                                                                            |\n",
      "|  GPU   GI   CI        PID   Type   Process name                            GPU Memory |\n",
      "|        ID   ID                                                             Usage      |\n",
      "|=======================================================================================|\n",
      "+---------------------------------------------------------------------------------------+\n"
     ]
    }
   ],
   "source": [
    "!nvidia-smi"
   ]
  },
  {
   "cell_type": "markdown",
   "id": "56d19957",
   "metadata": {},
   "source": [
    "**Now look it take Half of GPU Memory**\n",
    "\n"
   ]
  },
  {
   "cell_type": "code",
   "execution_count": null,
   "id": "49a145bc",
   "metadata": {},
   "outputs": [],
   "source": []
  },
  {
   "cell_type": "markdown",
   "id": "39742b06",
   "metadata": {},
   "source": [
    "**Lets again run this query**"
   ]
  },
  {
   "cell_type": "code",
   "execution_count": 12,
   "id": "d416838c",
   "metadata": {},
   "outputs": [
    {
     "name": "stdout",
     "output_type": "stream",
     "text": [
      "CPU times: user 131 ms, sys: 113 ms, total: 243 ms\n",
      "Wall time: 232 ms\n"
     ]
    },
    {
     "data": {
      "text/html": [
       "<div><style>\n",
       ".dataframe > thead > tr,\n",
       ".dataframe > tbody > tr {\n",
       "  text-align: right;\n",
       "  white-space: pre-wrap;\n",
       "}\n",
       "</style>\n",
       "<small>shape: (5, 2)</small><table border=\"1\" class=\"dataframe\"><thead><tr><th>country_of_birth</th><th>score</th></tr><tr><td>str</td><td>f64</td></tr></thead><tbody><tr><td>&quot;Jamaica&quot;</td><td>503.339533</td></tr><tr><td>&quot;Estonia&quot;</td><td>503.291502</td></tr><tr><td>&quot;Ghana&quot;</td><td>503.221561</td></tr><tr><td>&quot;Barbados&quot;</td><td>503.107001</td></tr><tr><td>&quot;Bolivia&quot;</td><td>502.871664</td></tr></tbody></table></div>"
      ],
      "text/plain": [
       "shape: (5, 2)\n",
       "┌──────────────────┬────────────┐\n",
       "│ country_of_birth ┆ score      │\n",
       "│ ---              ┆ ---        │\n",
       "│ str              ┆ f64        │\n",
       "╞══════════════════╪════════════╡\n",
       "│ Jamaica          ┆ 503.339533 │\n",
       "│ Estonia          ┆ 503.291502 │\n",
       "│ Ghana            ┆ 503.221561 │\n",
       "│ Barbados         ┆ 503.107001 │\n",
       "│ Bolivia          ┆ 502.871664 │\n",
       "└──────────────────┴────────────┘"
      ]
     },
     "execution_count": 12,
     "metadata": {},
     "output_type": "execute_result"
    }
   ],
   "source": [
    "%%time\n",
    "\n",
    "gpu_query = (\n",
    "    lzDF\n",
    "    .group_by(\"country_of_birth\")\n",
    "    .agg(pl.col(\"score\").mean())\n",
    "    .sort(by=\"score\", descending=True)\n",
    "    .head()\n",
    "    .collect(engine=gpu_engine)\n",
    ")\n",
    "gpu_query"
   ]
  },
  {
   "cell_type": "markdown",
   "id": "214d3a00",
   "metadata": {},
   "source": [
    "**This time it take only 243 ms i.e. 0.243 seconds**\n",
    "\n",
    "**Fantastic....RIGHT!!**\n",
    "\n",
    "**Now check GPU Memory again**"
   ]
  },
  {
   "cell_type": "code",
   "execution_count": 13,
   "id": "a49691c4",
   "metadata": {},
   "outputs": [
    {
     "name": "stdout",
     "output_type": "stream",
     "text": [
      "Fri Sep 20 09:43:27 2024       \n",
      "+---------------------------------------------------------------------------------------+\n",
      "| NVIDIA-SMI 535.183.06             Driver Version: 535.183.06   CUDA Version: 12.5     |\n",
      "|-----------------------------------------+----------------------+----------------------+\n",
      "| GPU  Name                 Persistence-M | Bus-Id        Disp.A | Volatile Uncorr. ECC |\n",
      "| Fan  Temp   Perf          Pwr:Usage/Cap |         Memory-Usage | GPU-Util  Compute M. |\n",
      "|                                         |                      |               MIG M. |\n",
      "|=========================================+======================+======================|\n",
      "|   0  NVIDIA A100-SXM4-80GB          On  | 00000000:07:00.0 Off |                    0 |\n",
      "| N/A   30C    P0              66W / 400W |  40751MiB / 81920MiB |      0%      Default |\n",
      "|                                         |                      |             Disabled |\n",
      "+-----------------------------------------+----------------------+----------------------+\n",
      "|   1  NVIDIA A100-SXM4-80GB          On  | 00000000:0F:00.0 Off |                    0 |\n",
      "| N/A   28C    P0              66W / 400W |    423MiB / 81920MiB |      0%      Default |\n",
      "|                                         |                      |             Disabled |\n",
      "+-----------------------------------------+----------------------+----------------------+\n",
      "|   2  NVIDIA A100-SXM4-80GB          On  | 00000000:47:00.0 Off |                    0 |\n",
      "| N/A   28C    P0              67W / 400W |    423MiB / 81920MiB |      0%      Default |\n",
      "|                                         |                      |             Disabled |\n",
      "+-----------------------------------------+----------------------+----------------------+\n",
      "|   3  NVIDIA A100-SXM4-80GB          On  | 00000000:4E:00.0 Off |                    0 |\n",
      "| N/A   28C    P0              68W / 400W |    423MiB / 81920MiB |      0%      Default |\n",
      "|                                         |                      |             Disabled |\n",
      "+-----------------------------------------+----------------------+----------------------+\n",
      "|   4  NVIDIA A100-SXM4-80GB          On  | 00000000:87:00.0 Off |                    0 |\n",
      "| N/A   34C    P0              71W / 400W |    423MiB / 81920MiB |      0%      Default |\n",
      "|                                         |                      |             Disabled |\n",
      "+-----------------------------------------+----------------------+----------------------+\n",
      "|   5  NVIDIA A100-SXM4-80GB          On  | 00000000:90:00.0 Off |                    0 |\n",
      "| N/A   34C    P0              70W / 400W |    423MiB / 81920MiB |      0%      Default |\n",
      "|                                         |                      |             Disabled |\n",
      "+-----------------------------------------+----------------------+----------------------+\n",
      "|   6  NVIDIA A100-SXM4-80GB          On  | 00000000:B7:00.0 Off |                    0 |\n",
      "| N/A   32C    P0              66W / 400W |    423MiB / 81920MiB |      0%      Default |\n",
      "|                                         |                      |             Disabled |\n",
      "+-----------------------------------------+----------------------+----------------------+\n",
      "|   7  NVIDIA A100-SXM4-80GB          On  | 00000000:BD:00.0 Off |                    0 |\n",
      "| N/A   32C    P0              69W / 400W |    423MiB / 81920MiB |      0%      Default |\n",
      "|                                         |                      |             Disabled |\n",
      "+-----------------------------------------+----------------------+----------------------+\n",
      "                                                                                         \n",
      "+---------------------------------------------------------------------------------------+\n",
      "| Processes:                                                                            |\n",
      "|  GPU   GI   CI        PID   Type   Process name                            GPU Memory |\n",
      "|        ID   ID                                                             Usage      |\n",
      "|=======================================================================================|\n",
      "+---------------------------------------------------------------------------------------+\n"
     ]
    }
   ],
   "source": [
    "!nvidia-smi"
   ]
  },
  {
   "cell_type": "markdown",
   "id": "cea7b0bf",
   "metadata": {},
   "source": [
    "**Not much changes in memory usage**"
   ]
  },
  {
   "cell_type": "markdown",
   "id": "9f5aa0f0",
   "metadata": {},
   "source": [
    "**Lets Run other query on GPU**"
   ]
  },
  {
   "cell_type": "code",
   "execution_count": 15,
   "id": "71f09ac6",
   "metadata": {},
   "outputs": [
    {
     "name": "stdout",
     "output_type": "stream",
     "text": [
      "CPU times: user 152 ms, sys: 126 ms, total: 278 ms\n",
      "Wall time: 256 ms\n"
     ]
    },
    {
     "data": {
      "text/html": [
       "<div><style>\n",
       ".dataframe > thead > tr,\n",
       ".dataframe > tbody > tr {\n",
       "  text-align: right;\n",
       "  white-space: pre-wrap;\n",
       "}\n",
       "</style>\n",
       "<small>shape: (5, 5)</small><table border=\"1\" class=\"dataframe\"><thead><tr><th>country_of_birth</th><th>record_year</th><th>avg_score</th><th>total_score</th><th>user_count</th></tr><tr><td>str</td><td>i64</td><td>f64</td><td>i64</td><td>u32</td></tr></thead><tbody><tr><td>&quot;Korea&quot;</td><td>2017</td><td>545.625523</td><td>782427</td><td>1434</td></tr><tr><td>&quot;Congo&quot;</td><td>2019</td><td>528.550409</td><td>775912</td><td>1468</td></tr><tr><td>&quot;Korea&quot;</td><td>2019</td><td>523.653324</td><td>771865</td><td>1474</td></tr><tr><td>&quot;Congo&quot;</td><td>2020</td><td>530.783439</td><td>749997</td><td>1413</td></tr><tr><td>&quot;Korea&quot;</td><td>2021</td><td>521.718794</td><td>743971</td><td>1426</td></tr></tbody></table></div>"
      ],
      "text/plain": [
       "shape: (5, 5)\n",
       "┌──────────────────┬─────────────┬────────────┬─────────────┬────────────┐\n",
       "│ country_of_birth ┆ record_year ┆ avg_score  ┆ total_score ┆ user_count │\n",
       "│ ---              ┆ ---         ┆ ---        ┆ ---         ┆ ---        │\n",
       "│ str              ┆ i64         ┆ f64        ┆ i64         ┆ u32        │\n",
       "╞══════════════════╪═════════════╪════════════╪═════════════╪════════════╡\n",
       "│ Korea            ┆ 2017        ┆ 545.625523 ┆ 782427      ┆ 1434       │\n",
       "│ Congo            ┆ 2019        ┆ 528.550409 ┆ 775912      ┆ 1468       │\n",
       "│ Korea            ┆ 2019        ┆ 523.653324 ┆ 771865      ┆ 1474       │\n",
       "│ Congo            ┆ 2020        ┆ 530.783439 ┆ 749997      ┆ 1413       │\n",
       "│ Korea            ┆ 2021        ┆ 521.718794 ┆ 743971      ┆ 1426       │\n",
       "└──────────────────┴─────────────┴────────────┴─────────────┴────────────┘"
      ]
     },
     "execution_count": 15,
     "metadata": {},
     "output_type": "execute_result"
    }
   ],
   "source": [
    "%%time\n",
    "\n",
    "\n",
    "new_query = (\n",
    "    lzDF\n",
    "    .filter((pl.col(\"record_year\") > 2015) & (pl.col(\"score\") > 50))  # Filter rows based on record year and score\n",
    "    .group_by([\"country_of_birth\", \"record_year\"])  # Group by country and record year\n",
    "    .agg([\n",
    "        pl.col(\"score\").mean().alias(\"avg_score\"),  # Calculate average score\n",
    "        pl.col(\"score\").sum().alias(\"total_score\"),  # Calculate total score per group\n",
    "        pl.col(\"user_id\").count().alias(\"user_count\"),  # Count the number of users per group\n",
    "    ])\n",
    "    .sort(by=\"total_score\", descending=True)  # Sort by total score in descending order\n",
    "    .head(5)  # Select top 5 countries with the highest total score\n",
    "    .collect(engine=gpu_engine)  # Collect using GPU engine\n",
    ")\n",
    "\n",
    "new_query"
   ]
  },
  {
   "cell_type": "markdown",
   "id": "8a3b957f",
   "metadata": {},
   "source": [
    "**This time it take 278ms that is only .278 second**\n",
    "\n",
    "Polars amazing Speed !!"
   ]
  },
  {
   "cell_type": "code",
   "execution_count": 16,
   "id": "e7ae0264",
   "metadata": {},
   "outputs": [
    {
     "name": "stdout",
     "output_type": "stream",
     "text": [
      "Fri Sep 20 09:46:44 2024       \n",
      "+---------------------------------------------------------------------------------------+\n",
      "| NVIDIA-SMI 535.183.06             Driver Version: 535.183.06   CUDA Version: 12.5     |\n",
      "|-----------------------------------------+----------------------+----------------------+\n",
      "| GPU  Name                 Persistence-M | Bus-Id        Disp.A | Volatile Uncorr. ECC |\n",
      "| Fan  Temp   Perf          Pwr:Usage/Cap |         Memory-Usage | GPU-Util  Compute M. |\n",
      "|                                         |                      |               MIG M. |\n",
      "|=========================================+======================+======================|\n",
      "|   0  NVIDIA A100-SXM4-80GB          On  | 00000000:07:00.0 Off |                    0 |\n",
      "| N/A   30C    P0              66W / 400W |  40751MiB / 81920MiB |      0%      Default |\n",
      "|                                         |                      |             Disabled |\n",
      "+-----------------------------------------+----------------------+----------------------+\n",
      "|   1  NVIDIA A100-SXM4-80GB          On  | 00000000:0F:00.0 Off |                    0 |\n",
      "| N/A   28C    P0              66W / 400W |    423MiB / 81920MiB |      0%      Default |\n",
      "|                                         |                      |             Disabled |\n",
      "+-----------------------------------------+----------------------+----------------------+\n",
      "|   2  NVIDIA A100-SXM4-80GB          On  | 00000000:47:00.0 Off |                    0 |\n",
      "| N/A   29C    P0              67W / 400W |    423MiB / 81920MiB |      0%      Default |\n",
      "|                                         |                      |             Disabled |\n",
      "+-----------------------------------------+----------------------+----------------------+\n",
      "|   3  NVIDIA A100-SXM4-80GB          On  | 00000000:4E:00.0 Off |                    0 |\n",
      "| N/A   28C    P0              68W / 400W |    423MiB / 81920MiB |      0%      Default |\n",
      "|                                         |                      |             Disabled |\n",
      "+-----------------------------------------+----------------------+----------------------+\n",
      "|   4  NVIDIA A100-SXM4-80GB          On  | 00000000:87:00.0 Off |                    0 |\n",
      "| N/A   34C    P0              72W / 400W |    423MiB / 81920MiB |      0%      Default |\n",
      "|                                         |                      |             Disabled |\n",
      "+-----------------------------------------+----------------------+----------------------+\n",
      "|   5  NVIDIA A100-SXM4-80GB          On  | 00000000:90:00.0 Off |                    0 |\n",
      "| N/A   34C    P0              70W / 400W |    423MiB / 81920MiB |      0%      Default |\n",
      "|                                         |                      |             Disabled |\n",
      "+-----------------------------------------+----------------------+----------------------+\n",
      "|   6  NVIDIA A100-SXM4-80GB          On  | 00000000:B7:00.0 Off |                    0 |\n",
      "| N/A   32C    P0              66W / 400W |    423MiB / 81920MiB |      0%      Default |\n",
      "|                                         |                      |             Disabled |\n",
      "+-----------------------------------------+----------------------+----------------------+\n",
      "|   7  NVIDIA A100-SXM4-80GB          On  | 00000000:BD:00.0 Off |                    0 |\n",
      "| N/A   33C    P0              70W / 400W |    423MiB / 81920MiB |      0%      Default |\n",
      "|                                         |                      |             Disabled |\n",
      "+-----------------------------------------+----------------------+----------------------+\n",
      "                                                                                         \n",
      "+---------------------------------------------------------------------------------------+\n",
      "| Processes:                                                                            |\n",
      "|  GPU   GI   CI        PID   Type   Process name                            GPU Memory |\n",
      "|        ID   ID                                                             Usage      |\n",
      "|=======================================================================================|\n",
      "+---------------------------------------------------------------------------------------+\n"
     ]
    }
   ],
   "source": [
    "!nvidia-smi"
   ]
  },
  {
   "cell_type": "markdown",
   "id": "593f12de",
   "metadata": {},
   "source": [
    "**Memory usage remains unchanged, as the required allocation occurs upfront. However, transferring data to the GPU has resulted in a 30X increase in execution time.**"
   ]
  },
  {
   "cell_type": "markdown",
   "id": "9c1aa700",
   "metadata": {},
   "source": []
  },
  {
   "cell_type": "markdown",
   "id": "ca22b834",
   "metadata": {},
   "source": [
    "**Now running the same query on CPU**"
   ]
  },
  {
   "cell_type": "code",
   "execution_count": 17,
   "id": "ff0bde35",
   "metadata": {},
   "outputs": [
    {
     "name": "stdout",
     "output_type": "stream",
     "text": [
      "CPU times: user 15.4 s, sys: 15.1 s, total: 30.5 s\n",
      "Wall time: 355 ms\n"
     ]
    },
    {
     "data": {
      "text/html": [
       "<div><style>\n",
       ".dataframe > thead > tr,\n",
       ".dataframe > tbody > tr {\n",
       "  text-align: right;\n",
       "  white-space: pre-wrap;\n",
       "}\n",
       "</style>\n",
       "<small>shape: (5, 5)</small><table border=\"1\" class=\"dataframe\"><thead><tr><th>country_of_birth</th><th>record_year</th><th>avg_score</th><th>total_score</th><th>user_count</th></tr><tr><td>str</td><td>i64</td><td>f64</td><td>i64</td><td>u32</td></tr></thead><tbody><tr><td>&quot;Korea&quot;</td><td>2017</td><td>545.625523</td><td>782427</td><td>1434</td></tr><tr><td>&quot;Congo&quot;</td><td>2019</td><td>528.550409</td><td>775912</td><td>1468</td></tr><tr><td>&quot;Korea&quot;</td><td>2019</td><td>523.653324</td><td>771865</td><td>1474</td></tr><tr><td>&quot;Congo&quot;</td><td>2020</td><td>530.783439</td><td>749997</td><td>1413</td></tr><tr><td>&quot;Korea&quot;</td><td>2021</td><td>521.718794</td><td>743971</td><td>1426</td></tr></tbody></table></div>"
      ],
      "text/plain": [
       "shape: (5, 5)\n",
       "┌──────────────────┬─────────────┬────────────┬─────────────┬────────────┐\n",
       "│ country_of_birth ┆ record_year ┆ avg_score  ┆ total_score ┆ user_count │\n",
       "│ ---              ┆ ---         ┆ ---        ┆ ---         ┆ ---        │\n",
       "│ str              ┆ i64         ┆ f64        ┆ i64         ┆ u32        │\n",
       "╞══════════════════╪═════════════╪════════════╪═════════════╪════════════╡\n",
       "│ Korea            ┆ 2017        ┆ 545.625523 ┆ 782427      ┆ 1434       │\n",
       "│ Congo            ┆ 2019        ┆ 528.550409 ┆ 775912      ┆ 1468       │\n",
       "│ Korea            ┆ 2019        ┆ 523.653324 ┆ 771865      ┆ 1474       │\n",
       "│ Congo            ┆ 2020        ┆ 530.783439 ┆ 749997      ┆ 1413       │\n",
       "│ Korea            ┆ 2021        ┆ 521.718794 ┆ 743971      ┆ 1426       │\n",
       "└──────────────────┴─────────────┴────────────┴─────────────┴────────────┘"
      ]
     },
     "execution_count": 17,
     "metadata": {},
     "output_type": "execute_result"
    }
   ],
   "source": [
    "%%time\n",
    "\n",
    "\n",
    "new_query = (\n",
    "    lzDF\n",
    "    .filter((pl.col(\"record_year\") > 2015) & (pl.col(\"score\") > 50)) \n",
    "    .group_by([\"country_of_birth\", \"record_year\"]) \n",
    "    .agg([\n",
    "        pl.col(\"score\").mean().alias(\"avg_score\"),  \n",
    "        pl.col(\"score\").sum().alias(\"total_score\"),  \n",
    "        pl.col(\"user_id\").count().alias(\"user_count\"),  \n",
    "    ])\n",
    "    .sort(by=\"total_score\", descending=True)  \n",
    "    .head(5)  \n",
    "    .collect() )\n",
    "\n",
    "new_query"
   ]
  },
  {
   "cell_type": "code",
   "execution_count": null,
   "id": "759d4018",
   "metadata": {},
   "outputs": [],
   "source": []
  }
 ],
 "metadata": {
  "kernelspec": {
   "display_name": "Python 3 (ipykernel)",
   "language": "python",
   "name": "python3"
  },
  "language_info": {
   "codemirror_mode": {
    "name": "ipython",
    "version": 3
   },
   "file_extension": ".py",
   "mimetype": "text/x-python",
   "name": "python",
   "nbconvert_exporter": "python",
   "pygments_lexer": "ipython3",
   "version": "3.10.12"
  }
 },
 "nbformat": 4,
 "nbformat_minor": 5
}
